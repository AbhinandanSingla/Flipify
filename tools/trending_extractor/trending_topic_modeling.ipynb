{
 "cells": [
  {
   "cell_type": "markdown",
   "source": [
    "### STTM topic modeling algorithm for finding trending fashions"
   ],
   "metadata": {
    "collapsed": false,
    "pycharm": {
     "name": "#%% md\n"
    }
   }
  },
  {
   "cell_type": "code",
   "execution_count": 1,
   "id": "f540a61f",
   "metadata": {
    "_cell_guid": "54a52a90-d776-4518-9e48-1d07201b7d9e",
    "_uuid": "a681c0fc-570c-423c-9231-001ab57f158b",
    "collapsed": false,
    "execution": {
     "iopub.execute_input": "2023-07-24T18:24:12.948085Z",
     "iopub.status.busy": "2023-07-24T18:24:12.946841Z",
     "iopub.status.idle": "2023-07-24T18:24:14.781514Z",
     "shell.execute_reply": "2023-07-24T18:24:14.780291Z"
    },
    "jupyter": {
     "outputs_hidden": false
    },
    "papermill": {
     "duration": 1.844781,
     "end_time": "2023-07-24T18:24:14.784423",
     "exception": false,
     "start_time": "2023-07-24T18:24:12.939642",
     "status": "completed"
    },
    "tags": [],
    "pycharm": {
     "name": "#%%\n"
    }
   },
   "outputs": [
    {
     "name": "stdout",
     "output_type": "stream",
     "text": [
      "Cloning into 'gsdmm'...\r\n",
      "remote: Enumerating objects: 62, done.\u001B[K\r\n",
      "remote: Total 62 (delta 0), reused 0 (delta 0), pack-reused 62\u001B[K\r\n",
      "Unpacking objects: 100% (62/62), 15.67 KiB | 763.00 KiB/s, done.\r\n"
     ]
    }
   ],
   "source": [
    "!git clone https://github.com/rwalk/gsdmm.git"
   ]
  },
  {
   "cell_type": "code",
   "execution_count": 2,
   "id": "15097bae",
   "metadata": {
    "_cell_guid": "5ea14336-236c-4baa-bfe8-d43c943dc0d2",
    "_uuid": "a62242d7-2117-4d1f-9f02-22aee6c9ed2c",
    "collapsed": false,
    "execution": {
     "iopub.execute_input": "2023-07-24T18:24:14.797425Z",
     "iopub.status.busy": "2023-07-24T18:24:14.796991Z",
     "iopub.status.idle": "2023-07-24T18:24:16.376837Z",
     "shell.execute_reply": "2023-07-24T18:24:16.375403Z"
    },
    "jupyter": {
     "outputs_hidden": false
    },
    "papermill": {
     "duration": 1.589482,
     "end_time": "2023-07-24T18:24:16.379510",
     "exception": false,
     "start_time": "2023-07-24T18:24:14.790028",
     "status": "completed"
    },
    "tags": [],
    "pycharm": {
     "name": "#%%\n"
    }
   },
   "outputs": [],
   "source": [
    "import numpy as np\n",
    "import pandas as pd\n",
    "import pickle\n",
    "import re\n",
    "import gsdmm.gsdmm\n",
    "from gsdmm.gsdmm import MovieGroupProcess\n",
    "from tqdm import tqdm\n",
    "import gensim\n",
    "from gensim.models import CoherenceModel"
   ]
  },
  {
   "cell_type": "code",
   "execution_count": 3,
   "id": "8a14b130",
   "metadata": {
    "_cell_guid": "19c1af21-6cb8-407c-8902-264784383ce7",
    "_uuid": "22d729c2-45e3-4f5e-9580-823c72222a6a",
    "collapsed": false,
    "execution": {
     "iopub.execute_input": "2023-07-24T18:24:16.392784Z",
     "iopub.status.busy": "2023-07-24T18:24:16.391810Z",
     "iopub.status.idle": "2023-07-24T18:24:16.399152Z",
     "shell.execute_reply": "2023-07-24T18:24:16.398214Z"
    },
    "jupyter": {
     "outputs_hidden": false
    },
    "papermill": {
     "duration": 0.016496,
     "end_time": "2023-07-24T18:24:16.401597",
     "exception": false,
     "start_time": "2023-07-24T18:24:16.385101",
     "status": "completed"
    },
    "tags": [],
    "pycharm": {
     "name": "#%%\n"
    }
   },
   "outputs": [],
   "source": [
    "# docs = df[].to_numpy()\n",
    "def dataPrep(df):\n",
    "    tokens = df['LemmatizeText'].apply(lambda x : str(x).split( ))    \n",
    "    dictionary = gensim.corpora.Dictionary(tokens)\n",
    "    dictionary.filter_extremes(no_below=15, no_above=0.5, keep_n=100000)\n",
    "    vocab_length = len(dictionary)\n",
    "    bow_corpus = [dictionary.doc2bow(doc) for doc in tokens]\n",
    "    return tokens,dictionary,bow_corpus,vocab_length"
   ]
  },
  {
   "cell_type": "code",
   "execution_count": 4,
   "id": "e41c3492",
   "metadata": {
    "_cell_guid": "182f19e8-d3b4-414b-a0e4-d1ef6ab7732e",
    "_uuid": "a05727d3-911c-4f02-981f-c990b3566da1",
    "collapsed": false,
    "execution": {
     "iopub.execute_input": "2023-07-24T18:24:16.413851Z",
     "iopub.status.busy": "2023-07-24T18:24:16.413463Z",
     "iopub.status.idle": "2023-07-24T18:24:16.419950Z",
     "shell.execute_reply": "2023-07-24T18:24:16.419088Z"
    },
    "jupyter": {
     "outputs_hidden": false
    },
    "papermill": {
     "duration": 0.015485,
     "end_time": "2023-07-24T18:24:16.422393",
     "exception": false,
     "start_time": "2023-07-24T18:24:16.406908",
     "status": "completed"
    },
    "tags": [],
    "pycharm": {
     "name": "#%%\n"
    }
   },
   "outputs": [],
   "source": [
    "def runModel(token,i):\n",
    "    mgp = MovieGroupProcess(alpha=0.1, beta=0.3, n_iters=10,K=10)\n",
    "    vocab = set(x for doc in tokens for x in doc)\n",
    "    n_terms = len(vocab)\n",
    "    y = mgp.fit(tokens, n_terms)\n",
    "    pickle.dump(mgp,open(f\"chunk{i}_STTM.sav\",'wb'))\n",
    "    return mgp"
   ]
  },
  {
   "cell_type": "code",
   "execution_count": 5,
   "id": "fd65c3fa",
   "metadata": {
    "_cell_guid": "d170d73e-b36e-4f77-96d4-f40dcec8188e",
    "_uuid": "7f42f85c-0232-47c9-ae77-598696b176e1",
    "collapsed": false,
    "execution": {
     "iopub.execute_input": "2023-07-24T18:24:16.435786Z",
     "iopub.status.busy": "2023-07-24T18:24:16.434888Z",
     "iopub.status.idle": "2023-07-24T18:24:16.447403Z",
     "shell.execute_reply": "2023-07-24T18:24:16.446431Z"
    },
    "jupyter": {
     "outputs_hidden": false
    },
    "papermill": {
     "duration": 0.021881,
     "end_time": "2023-07-24T18:24:16.450159",
     "exception": false,
     "start_time": "2023-07-24T18:24:16.428278",
     "status": "completed"
    },
    "tags": [],
    "pycharm": {
     "name": "#%%\n"
    }
   },
   "outputs": [],
   "source": [
    "\n",
    "# helper functions\n",
    "def top_words(cluster_word_distribution, top_cluster, values):\n",
    "    '''prints the top words in each cluster'''\n",
    "    for cluster in top_cluster:\n",
    "        sort_dicts = sorted(mgp.cluster_word_distribution[cluster].items(), key=lambda k: k[1], reverse=True)[:values]\n",
    "        print('Cluster %s : %s' % (cluster, sort_dicts))\n",
    "        print(' — — — — — — — — —')\n",
    "\n",
    "\n",
    "def cluster_importance(mgp):\n",
    "    '''returns a word-topic matrix[phi] where each value represents\n",
    "    the word importance for that particular cluster;\n",
    "    phi[i][w] would be the importance of word w in topic i.\n",
    "    '''\n",
    "    n_z_w = mgp.cluster_word_distribution\n",
    "    beta, V, K = mgp.beta, mgp.vocab_size, mgp.K\n",
    "    phi = [{} for i in range(K)]\n",
    "    for z in range(K):\n",
    "        for w in n_z_w[z]:\n",
    "            phi[z][w] = (n_z_w[z][w] + beta) / (sum(n_z_w[z].values()) + V * beta)\n",
    "    return phi\n",
    "\n",
    "\n",
    "def topic_allocation(df, docs, mgp, topic_dict):\n",
    "    '''allocates all topics to each document in original dataframe,\n",
    "    adding two columns for cluster number and cluster description'''\n",
    "    topic_allocations = []\n",
    "    for doc in tqdm(docs):\n",
    "        topic_label, score = mgp.choose_best_label(doc)\n",
    "        topic_allocations.append(topic_label)\n",
    "\n",
    "    df['cluster'] = topic_allocations\n",
    "\n",
    "    df['topic_name'] = df.cluster.apply(lambda x: get_topic_name(x, topic_dict))\n",
    "    print('Complete. Number of documents with topic allocated: {}'.format(len(df)))\n",
    "\n",
    "\n",
    "def get_topic_name(doc, topic_dict):\n",
    "    '''returns the topic name string value from a dictionary of topics'''\n",
    "    topic_desc = topic_dict[doc]\n",
    "    return topic_desc"
   ]
  },
  {
   "cell_type": "code",
   "execution_count": 6,
   "id": "f628f6f2",
   "metadata": {
    "_cell_guid": "050bf0d6-3f42-4f40-8e7b-92d0675d4865",
    "_uuid": "4c3b5c65-8f64-47b0-8b61-90f08c903d4e",
    "collapsed": false,
    "execution": {
     "iopub.execute_input": "2023-07-24T18:24:16.462657Z",
     "iopub.status.busy": "2023-07-24T18:24:16.462251Z",
     "iopub.status.idle": "2023-07-24T18:24:16.470468Z",
     "shell.execute_reply": "2023-07-24T18:24:16.469019Z"
    },
    "jupyter": {
     "outputs_hidden": false
    },
    "papermill": {
     "duration": 0.017478,
     "end_time": "2023-07-24T18:24:16.473113",
     "exception": false,
     "start_time": "2023-07-24T18:24:16.455635",
     "status": "completed"
    },
    "tags": [],
    "pycharm": {
     "name": "#%%\n"
    }
   },
   "outputs": [],
   "source": [
    "# import library from gensim  \n",
    "\n",
    "# define function to get words in topics\n",
    "def get_topics_lists(model, top_clusters, n_words):\n",
    "    '''\n",
    "    Gets lists of words in topics as a list of lists.\n",
    "    model: gsdmm instance\n",
    "    top_clusters:  numpy array containing indices of top_clusters\n",
    "    n_words: top n number of words to include\n",
    "    '''\n",
    "    # create empty list to contain topics\n",
    "    topics = []\n",
    "  \n",
    "    # iterate over top n clusters\n",
    "    for cluster in top_clusters:\n",
    "        #create sorted dictionary of word distributions\n",
    "        sorted_dict = sorted(model.cluster_word_distribution[cluster].items(), key=lambda k: k[1], reverse=True)[:n_words]\n",
    "         \n",
    "        #create empty list to contain words\n",
    "        topic = []\n",
    "        \n",
    "        #iterate over top n words in topic\n",
    "        for k,v in sorted_dict:\n",
    "            #append words to topic list\n",
    "            topic.append(k)\n",
    "            \n",
    "        #append topics to topics list    \n",
    "        topics.append(topic)\n",
    "    \n",
    "    return topics"
   ]
  },
  {
   "cell_type": "code",
   "execution_count": 7,
   "id": "c61cc45f",
   "metadata": {
    "_cell_guid": "4d98f85b-d330-41f8-8b79-d85e187390e9",
    "_uuid": "b672e768-1112-4335-8fbc-6487f409ae99",
    "collapsed": false,
    "execution": {
     "iopub.execute_input": "2023-07-24T18:24:16.486835Z",
     "iopub.status.busy": "2023-07-24T18:24:16.485705Z",
     "iopub.status.idle": "2023-07-24T18:24:16.494746Z",
     "shell.execute_reply": "2023-07-24T18:24:16.493538Z"
    },
    "jupyter": {
     "outputs_hidden": false
    },
    "papermill": {
     "duration": 0.018983,
     "end_time": "2023-07-24T18:24:16.497556",
     "exception": false,
     "start_time": "2023-07-24T18:24:16.478573",
     "status": "completed"
    },
    "tags": [],
    "pycharm": {
     "name": "#%%\n"
    }
   },
   "outputs": [],
   "source": [
    "\n",
    "def findCoherence(mgp,tokens,id2word,bow_corpus):\n",
    "    topics = get_topics_lists(mgp, top_index, 10) \n",
    "    coherencemodel_cv = CoherenceModel(topics=topics, texts=tokens,corpus=bow_corpus, dictionary=id2word, coherence='c_v')\n",
    "    coherencemodel_mass = CoherenceModel( topics=topics, texts=tokens, corpus=bow_corpus,dictionary=id2word, coherence='u_mass')\n",
    "    coherencemodel_npmi = CoherenceModel(topics=topics,  texts=tokens, corpus=bow_corpus,dictionary=id2word, coherence='c_npmi')\n",
    "    coherencemodel_uci = CoherenceModel( topics=topics, texts=tokens,corpus=bow_corpus, dictionary=id2word, coherence='c_uci')\n",
    "    return {\"c_v\":coherencemodel_cv.get_coherence(),\n",
    "            \"u_mass\":coherencemodel_mass.get_coherence(),\n",
    "           \"c_npmi\":coherencemodel_npmi.get_coherence(),\n",
    "           \"c_uci\":coherencemodel_uci.get_coherence()}"
   ]
  },
  {
   "cell_type": "code",
   "execution_count": 8,
   "id": "1c9b7184",
   "metadata": {
    "_cell_guid": "4978c02c-64f2-4d38-a7ac-646923d48ee8",
    "_uuid": "d2213112-7169-4dd5-896c-50e64b07e50a",
    "collapsed": false,
    "execution": {
     "iopub.execute_input": "2023-07-24T18:24:16.512058Z",
     "iopub.status.busy": "2023-07-24T18:24:16.511345Z",
     "iopub.status.idle": "2023-07-24T18:24:54.369631Z",
     "shell.execute_reply": "2023-07-24T18:24:54.368137Z"
    },
    "jupyter": {
     "outputs_hidden": false
    },
    "papermill": {
     "duration": 37.869965,
     "end_time": "2023-07-24T18:24:54.372935",
     "exception": false,
     "start_time": "2023-07-24T18:24:16.502970",
     "status": "completed"
    },
    "tags": [],
    "pycharm": {
     "name": "#%%\n"
    }
   },
   "outputs": [
    {
     "name": "stdout",
     "output_type": "stream",
     "text": [
      "chunk2==============================================================================\n"
     ]
    }
   ],
   "source": [
    "print(f\"chunk2==============================================================================\")\n",
    "df = pd.read_csv(f\"/kaggle/input/cleaneddata/2915461.csv\")\n",
    "# df1 = pd.read_csv(f\"/kaggle/input/ukrainerussiachunks/chunk2.csv\")\n",
    "# df = pd.concat([df,df1])\n",
    "# print(df.count())"
   ]
  },
  {
   "cell_type": "code",
   "execution_count": 9,
   "id": "7322b924",
   "metadata": {
    "_cell_guid": "b4cdc196-c811-4df4-b7d2-959013d7227a",
    "_uuid": "3520a8ce-bcf4-4ae8-83f6-687de8c81d36",
    "collapsed": false,
    "execution": {
     "iopub.execute_input": "2023-07-24T18:24:54.385902Z",
     "iopub.status.busy": "2023-07-24T18:24:54.385501Z",
     "iopub.status.idle": "2023-07-24T18:25:11.010287Z",
     "shell.execute_reply": "2023-07-24T18:25:11.008950Z"
    },
    "jupyter": {
     "outputs_hidden": false
    },
    "papermill": {
     "duration": 16.634421,
     "end_time": "2023-07-24T18:25:11.013129",
     "exception": false,
     "start_time": "2023-07-24T18:24:54.378708",
     "status": "completed"
    },
    "tags": [],
    "pycharm": {
     "name": "#%%\n"
    }
   },
   "outputs": [
    {
     "data": {
      "text/plain": [
       "Unnamed: 0.2      2915461\n",
       "Unnamed: 0.1      2915461\n",
       "Unnamed: 0        2915461\n",
       "tweetid           2915461\n",
       "tweetcreatedts    2915461\n",
       "retweetcount      2915461\n",
       "text              2915461\n",
       "LemmatizeText     2915461\n",
       "dtype: int64"
      ]
     },
     "execution_count": 9,
     "metadata": {},
     "output_type": "execute_result"
    }
   ],
   "source": [
    "df.drop_duplicates()\n",
    "df.count()"
   ]
  },
  {
   "cell_type": "code",
   "execution_count": 10,
   "id": "95faaa58",
   "metadata": {
    "_cell_guid": "2ddb75c5-8acb-45ea-b443-6eea6b7b6af2",
    "_uuid": "08e4d105-b4bf-45cb-a861-5a6532b2e4dc",
    "collapsed": false,
    "execution": {
     "iopub.execute_input": "2023-07-24T18:25:11.026571Z",
     "iopub.status.busy": "2023-07-24T18:25:11.026144Z",
     "iopub.status.idle": "2023-07-24T23:28:24.994689Z",
     "shell.execute_reply": "2023-07-24T23:28:24.993096Z"
    },
    "jupyter": {
     "outputs_hidden": false
    },
    "papermill": {
     "duration": 18193.978571,
     "end_time": "2023-07-24T23:28:24.997491",
     "exception": false,
     "start_time": "2023-07-24T18:25:11.018920",
     "status": "completed"
    },
    "tags": [],
    "pycharm": {
     "name": "#%%\n"
    }
   },
   "outputs": [
    {
     "name": "stdout",
     "output_type": "stream",
     "text": [
      "In stage 0: transferred 2582042 clusters with 10 clusters populated\n",
      "In stage 1: transferred 2385982 clusters with 10 clusters populated\n",
      "In stage 2: transferred 1430427 clusters with 10 clusters populated\n",
      "In stage 3: transferred 885609 clusters with 10 clusters populated\n",
      "In stage 4: transferred 728712 clusters with 10 clusters populated\n",
      "In stage 5: transferred 677417 clusters with 10 clusters populated\n",
      "In stage 6: transferred 652928 clusters with 10 clusters populated\n",
      "In stage 7: transferred 636262 clusters with 10 clusters populated\n",
      "In stage 8: transferred 624291 clusters with 10 clusters populated\n",
      "In stage 9: transferred 615955 clusters with 10 clusters populated\n",
      "Number of documents per topic : [236599 313686 277256 187625  84126 271043 183288 716611 462363 182864]\n",
      "********************\n",
      "Most important clusters (by number of docs inside): [7 8 1 2 5 0 3 6 9 4]\n",
      "********************\n",
      "Cluster 0 : [('war', 68043), ('president', 32385), ('minister', 23336), ('putin', 19878), ('said', 19086), ('country', 18370), ('state', 16527), ('support', 16511), ('military', 16489), ('say', 16281), ('foreign', 15228), ('eu', 13352), ('security', 12790), ('sanction', 11934), ('nato', 11347)]\n",
      " — — — — — — — — —\n",
      "Cluster 1 : [('force', 50514), ('region', 45899), ('missile', 41483), ('city', 38438), ('attack', 30500), ('war', 28851), ('people', 27238), ('military', 25700), ('strike', 24803), ('hit', 21838), ('civilian', 20167), ('troop', 19737), ('fire', 19607), ('destroyed', 19254), ('shelling', 19038)]\n",
      " — — — — — — — — —\n",
      "Cluster 2 : [('war', 49097), ('help', 42068), ('people', 36292), ('support', 33586), ('day', 23580), ('please', 23506), ('need', 20000), ('thank', 18557), ('world', 16022), ('child', 14645), ('good', 14351), ('today', 13809), ('life', 12145), ('refugee', 12005), ('country', 11780)]\n",
      " — — — — — — — — —\n",
      "Cluster 3 : [('war', 66800), ('oil', 28389), ('gas', 26450), ('price', 23166), ('energy', 15909), ('sanction', 14817), ('food', 14810), ('country', 14790), ('world', 14736), ('global', 13081), ('supply', 11872), ('billion', 10528), ('eu', 10255), ('europe', 10108), ('company', 9905)]\n",
      " — — — — — — — — —\n",
      "Cluster 4 : [('war', 11683), ('putin', 8646), ('trump', 5062), ('biden', 4872), ('via', 4468), ('like', 4357), ('go', 3607), ('president', 3372), ('money', 3177), ('get', 3123), ('say', 2876), ('student', 2791), ('indian', 2571), ('people', 2534), ('know', 2383)]\n",
      " — — — — — — — — —\n",
      "Cluster 5 : [('war', 75698), ('soldier', 32823), ('civilian', 27727), ('killed', 26859), ('child', 25462), ('people', 24171), ('crime', 18709), ('mariupol', 17982), ('city', 17925), ('year', 16180), ('force', 15521), ('day', 14228), ('putin', 13861), ('military', 13776), ('woman', 13103)]\n",
      " — — — — — — — — —\n",
      "Cluster 6 : [('war', 47192), ('video', 13239), ('news', 12696), ('new', 11399), ('via', 9569), ('live', 7880), ('day', 7777), ('today', 7763), ('gt', 7166), ('world', 6806), ('read', 6595), ('join', 6448), ('medium', 6442), ('watch', 6025), ('latest', 5771)]\n",
      " — — — — — — — — —\n",
      "Cluster 7 : [('war', 250922), ('people', 110379), ('putin', 108163), ('world', 79939), ('stop', 64467), ('like', 56221), ('country', 54171), ('need', 42648), ('want', 41637), ('must', 40244), ('know', 37089), ('crime', 36478), ('get', 35755), ('would', 32941), ('support', 30665)]\n",
      " — — — — — — — — —\n",
      "Cluster 8 : [('war', 228576), ('putin', 65125), ('world', 44085), ('nato', 38369), ('nuclear', 33744), ('would', 31537), ('country', 31237), ('weapon', 31181), ('military', 29861), ('west', 25758), ('end', 25596), ('say', 24344), ('want', 20831), ('need', 20720), ('could', 19706)]\n",
      " — — — — — — — — —\n",
      "Cluster 9 : [('force', 31066), ('tank', 27734), ('drone', 19981), ('missile', 19131), ('war', 17154), ('air', 16516), ('destroyed', 16477), ('military', 14829), ('system', 14385), ('vehicle', 13799), ('soldier', 13536), ('armed', 13532), ('artillery', 12468), ('defense', 11518), ('video', 11150)]\n",
      " — — — — — — — — —\n"
     ]
    }
   ],
   "source": [
    "\n",
    "tokens,dictionary,bow_corpus,vocab_length = dataPrep(df)\n",
    "mgp = runModel(tokens,6)\n",
    "doc_count = np.array(mgp.cluster_doc_count)\n",
    "print('Number of documents per topic :', doc_count)\n",
    "print('*' * 20)\n",
    "# topics sorted by the number of documents they are allocated to\n",
    "top_index = doc_count.argsort()[-10:][::-1]\n",
    "print('Most important clusters (by number of docs inside):',\n",
    "          top_index)\n",
    "print('*' * 20)\n",
    "topic_indices = np.arange(start=0, stop=len(doc_count), step=1)\n",
    "top_words(mgp.cluster_word_distribution, topic_indices, 15)\n"
   ]
  },
  {
   "cell_type": "code",
   "execution_count": 11,
   "id": "f3fa7e5b",
   "metadata": {
    "execution": {
     "iopub.execute_input": "2023-07-24T23:28:25.014377Z",
     "iopub.status.busy": "2023-07-24T23:28:25.013192Z",
     "iopub.status.idle": "2023-07-24T23:37:32.267006Z",
     "shell.execute_reply": "2023-07-24T23:37:32.263754Z"
    },
    "papermill": {
     "duration": 547.270266,
     "end_time": "2023-07-24T23:37:32.275084",
     "exception": false,
     "start_time": "2023-07-24T23:28:25.004818",
     "status": "completed"
    },
    "tags": [],
    "pycharm": {
     "name": "#%%\n"
    }
   },
   "outputs": [
    {
     "name": "stdout",
     "output_type": "stream",
     "text": [
      "{'c_v': 0.5227149957518529, 'u_mass': -3.1472934993110955, 'c_npmi': 0.05174650235829261, 'c_uci': 0.3534568034491423}\n",
      "========================================================================================\n"
     ]
    }
   ],
   "source": [
    "print(findCoherence(mgp,tokens,dictionary,bow_corpus))\n",
    "print(\"========================================================================================\")"
   ]
  }
 ],
 "metadata": {
  "kernelspec": {
   "display_name": "Python 3",
   "language": "python",
   "name": "python3"
  },
  "language_info": {
   "codemirror_mode": {
    "name": "ipython",
    "version": 3
   },
   "file_extension": ".py",
   "mimetype": "text/x-python",
   "name": "python",
   "nbconvert_exporter": "python",
   "pygments_lexer": "ipython3",
   "version": "3.10.10"
  },
  "papermill": {
   "default_parameters": {},
   "duration": 18816.492589,
   "end_time": "2023-07-24T23:37:35.550931",
   "environment_variables": {},
   "exception": null,
   "input_path": "__notebook__.ipynb",
   "output_path": "__notebook__.ipynb",
   "parameters": {},
   "start_time": "2023-07-24T18:23:59.058342",
   "version": "2.4.0"
  }
 },
 "nbformat": 4,
 "nbformat_minor": 5
}